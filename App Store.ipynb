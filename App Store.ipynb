{
 "cells": [
  {
   "cell_type": "markdown",
   "metadata": {},
   "source": [
    "### Creating DataFrame\n",
    "<hr>"
   ]
  },
  {
   "cell_type": "code",
   "execution_count": 29,
   "metadata": {},
   "outputs": [],
   "source": [
    "import pandas as pd\n",
    "dataframe = pd.read_csv('appstore_games (5).csv')\n",
    "df = dataframe.iloc[:,[2,5,6,7,8,11,12,13,15,16,17]]"
   ]
  },
  {
   "cell_type": "code",
   "execution_count": 30,
   "metadata": {
    "scrolled": true
   },
   "outputs": [],
   "source": [
    "# Data Cleaning\n",
    "\n",
    "df = df[df['Average User Rating'] >= 4.0]\n",
    "\n",
    "df = df[df['User Rating Count'] >= 200.0]\n",
    "\n",
    "import datetime\n",
    "df['Current Version Release Date'] = pd.to_datetime(df['Current Version Release Date'])\n",
    "df['Original Release Date'] = pd.to_datetime(df['Original Release Date'])\n",
    "df['Update_Gap'] = df['Current Version Release Date']-df['Original Release Date']\n",
    "df = df[df.Update_Gap >= datetime.timedelta(days=180)]\n",
    "\n",
    "# Filling up Missing Values\n",
    "df['In-app Purchases'] = df['In-app Purchases'].fillna(0.00)\n",
    "df['Price'] = df['Price'].fillna(0.00)\n",
    "\n",
    "# Genre Categorization\n",
    "df.loc[df['Genres'].str.contains('Puzzle'), 'Genres'] = 'Puzzle'\n",
    "df.loc[df['Genres'].str.contains('Adventure'), 'Genres'] = 'Adventure'\n",
    "df.loc[df['Genres'].str.contains('Action'), 'Genres'] = 'Action'\n",
    "df.loc[df['Genres'].str.contains('Family'), 'Genres'] = 'Family'\n",
    "df.loc[df['Genres'].str.contains('Board'), 'Genres'] = 'Puzzle'\n",
    "df.loc[df['Genres'].str.contains('Role'), 'Genres'] = 'Adventure'\n",
    "df.loc[df['Genres'].str.contains('Strategy'), 'Genres'] = 'Strategy'\n",
    "df.loc[df['Genres'].str.contains('Role Playing'), 'Genres'] = 'Adventure'"
   ]
  },
  {
   "cell_type": "code",
   "execution_count": 31,
   "metadata": {},
   "outputs": [
    {
     "data": {
      "text/html": [
       "<div>\n",
       "<style scoped>\n",
       "    .dataframe tbody tr th:only-of-type {\n",
       "        vertical-align: middle;\n",
       "    }\n",
       "\n",
       "    .dataframe tbody tr th {\n",
       "        vertical-align: top;\n",
       "    }\n",
       "\n",
       "    .dataframe thead th {\n",
       "        text-align: right;\n",
       "    }\n",
       "</style>\n",
       "<table border=\"1\" class=\"dataframe\">\n",
       "  <thead>\n",
       "    <tr style=\"text-align: right;\">\n",
       "      <th></th>\n",
       "      <th>Name</th>\n",
       "      <th>Average User Rating</th>\n",
       "      <th>User Rating Count</th>\n",
       "      <th>Price</th>\n",
       "      <th>In-app Purchases</th>\n",
       "      <th>Age Rating</th>\n",
       "      <th>Languages</th>\n",
       "      <th>Size</th>\n",
       "      <th>Genres</th>\n",
       "      <th>Original Release Date</th>\n",
       "      <th>Current Version Release Date</th>\n",
       "      <th>Update_Gap</th>\n",
       "    </tr>\n",
       "  </thead>\n",
       "  <tbody>\n",
       "    <tr>\n",
       "      <th>0</th>\n",
       "      <td>Sudoku</td>\n",
       "      <td>4.0</td>\n",
       "      <td>3553.0</td>\n",
       "      <td>2.99</td>\n",
       "      <td>0</td>\n",
       "      <td>4+</td>\n",
       "      <td>DA, NL, EN, FI, FR, DE, IT, JA, KO, NB, PL, PT...</td>\n",
       "      <td>1.585357e+07</td>\n",
       "      <td>Puzzle</td>\n",
       "      <td>2008-11-07</td>\n",
       "      <td>2017-05-30</td>\n",
       "      <td>3126 days</td>\n",
       "    </tr>\n",
       "    <tr>\n",
       "      <th>24</th>\n",
       "      <td>Boomshine</td>\n",
       "      <td>4.0</td>\n",
       "      <td>637.0</td>\n",
       "      <td>0.99</td>\n",
       "      <td>0</td>\n",
       "      <td>4+</td>\n",
       "      <td>EN</td>\n",
       "      <td>2.287309e+07</td>\n",
       "      <td>Puzzle</td>\n",
       "      <td>2008-07-10</td>\n",
       "      <td>2017-05-20</td>\n",
       "      <td>3236 days</td>\n",
       "    </tr>\n",
       "    <tr>\n",
       "      <th>26</th>\n",
       "      <td>Fieldrunners</td>\n",
       "      <td>4.0</td>\n",
       "      <td>41869.0</td>\n",
       "      <td>2.99</td>\n",
       "      <td>0.99, 0.99, 0.99, 0.99</td>\n",
       "      <td>9+</td>\n",
       "      <td>EN</td>\n",
       "      <td>7.504179e+07</td>\n",
       "      <td>Action</td>\n",
       "      <td>2008-05-10</td>\n",
       "      <td>2018-11-04</td>\n",
       "      <td>3830 days</td>\n",
       "    </tr>\n",
       "    <tr>\n",
       "      <th>30</th>\n",
       "      <td>Expert Sudoku</td>\n",
       "      <td>4.0</td>\n",
       "      <td>523.0</td>\n",
       "      <td>2.99</td>\n",
       "      <td>0</td>\n",
       "      <td>4+</td>\n",
       "      <td>DA, NL, EN, FI, FR, DE, IT, JA, KO, NB, PL, PT...</td>\n",
       "      <td>9.543680e+06</td>\n",
       "      <td>Puzzle</td>\n",
       "      <td>2008-10-21</td>\n",
       "      <td>2017-05-30</td>\n",
       "      <td>3143 days</td>\n",
       "    </tr>\n",
       "    <tr>\n",
       "      <th>33</th>\n",
       "      <td>Chess - tChess Pro</td>\n",
       "      <td>4.0</td>\n",
       "      <td>3062.0</td>\n",
       "      <td>7.99</td>\n",
       "      <td>0</td>\n",
       "      <td>4+</td>\n",
       "      <td>EN, FR, DE, JA, KO, ZH</td>\n",
       "      <td>7.517184e+06</td>\n",
       "      <td>Puzzle</td>\n",
       "      <td>2008-05-11</td>\n",
       "      <td>2019-07-04</td>\n",
       "      <td>4071 days</td>\n",
       "    </tr>\n",
       "    <tr>\n",
       "      <th>...</th>\n",
       "      <td>...</td>\n",
       "      <td>...</td>\n",
       "      <td>...</td>\n",
       "      <td>...</td>\n",
       "      <td>...</td>\n",
       "      <td>...</td>\n",
       "      <td>...</td>\n",
       "      <td>...</td>\n",
       "      <td>...</td>\n",
       "      <td>...</td>\n",
       "      <td>...</td>\n",
       "      <td>...</td>\n",
       "    </tr>\n",
       "    <tr>\n",
       "      <th>15666</th>\n",
       "      <td>Days of Prophecy</td>\n",
       "      <td>4.5</td>\n",
       "      <td>344.0</td>\n",
       "      <td>0.00</td>\n",
       "      <td>4.99</td>\n",
       "      <td>12+</td>\n",
       "      <td>EN</td>\n",
       "      <td>1.746969e+09</td>\n",
       "      <td>Adventure</td>\n",
       "      <td>2019-01-05</td>\n",
       "      <td>2019-08-05</td>\n",
       "      <td>212 days</td>\n",
       "    </tr>\n",
       "    <tr>\n",
       "      <th>15736</th>\n",
       "      <td>Woody Bricks and Ball Puzzles</td>\n",
       "      <td>4.5</td>\n",
       "      <td>1746.0</td>\n",
       "      <td>0.00</td>\n",
       "      <td>0</td>\n",
       "      <td>4+</td>\n",
       "      <td>EN</td>\n",
       "      <td>1.222994e+08</td>\n",
       "      <td>Puzzle</td>\n",
       "      <td>2018-12-15</td>\n",
       "      <td>2019-07-30</td>\n",
       "      <td>227 days</td>\n",
       "    </tr>\n",
       "    <tr>\n",
       "      <th>15833</th>\n",
       "      <td>Bubble Pop Spinner</td>\n",
       "      <td>4.5</td>\n",
       "      <td>1398.0</td>\n",
       "      <td>0.00</td>\n",
       "      <td>0.99, 2.99, 8.99, 17.99, 0.99, 49.99, 94.99</td>\n",
       "      <td>4+</td>\n",
       "      <td>EN</td>\n",
       "      <td>9.195622e+07</td>\n",
       "      <td>Strategy</td>\n",
       "      <td>2019-01-21</td>\n",
       "      <td>2019-07-29</td>\n",
       "      <td>189 days</td>\n",
       "    </tr>\n",
       "    <tr>\n",
       "      <th>16171</th>\n",
       "      <td>Idle Convoy VS Zombies Inc</td>\n",
       "      <td>4.5</td>\n",
       "      <td>329.0</td>\n",
       "      <td>0.00</td>\n",
       "      <td>4.99, 1.99, 4.99</td>\n",
       "      <td>9+</td>\n",
       "      <td>EN</td>\n",
       "      <td>2.683167e+08</td>\n",
       "      <td>Adventure</td>\n",
       "      <td>2019-05-27</td>\n",
       "      <td>2019-12-07</td>\n",
       "      <td>194 days</td>\n",
       "    </tr>\n",
       "    <tr>\n",
       "      <th>16292</th>\n",
       "      <td>Idle Toll</td>\n",
       "      <td>5.0</td>\n",
       "      <td>1452.0</td>\n",
       "      <td>0.00</td>\n",
       "      <td>0</td>\n",
       "      <td>4+</td>\n",
       "      <td>EN, FR, DE, IT, PT, ES</td>\n",
       "      <td>2.220483e+08</td>\n",
       "      <td>Strategy</td>\n",
       "      <td>2019-03-24</td>\n",
       "      <td>2019-11-07</td>\n",
       "      <td>228 days</td>\n",
       "    </tr>\n",
       "  </tbody>\n",
       "</table>\n",
       "<p>1592 rows × 12 columns</p>\n",
       "</div>"
      ],
      "text/plain": [
       "                                Name  Average User Rating  User Rating Count  \\\n",
       "0                             Sudoku                  4.0             3553.0   \n",
       "24                         Boomshine                  4.0              637.0   \n",
       "26                      Fieldrunners                  4.0            41869.0   \n",
       "30                     Expert Sudoku                  4.0              523.0   \n",
       "33                Chess - tChess Pro                  4.0             3062.0   \n",
       "...                              ...                  ...                ...   \n",
       "15666               Days of Prophecy                  4.5              344.0   \n",
       "15736  Woody Bricks and Ball Puzzles                  4.5             1746.0   \n",
       "15833             Bubble Pop Spinner                  4.5             1398.0   \n",
       "16171     Idle Convoy VS Zombies Inc                  4.5              329.0   \n",
       "16292                      Idle Toll                  5.0             1452.0   \n",
       "\n",
       "       Price                             In-app Purchases Age Rating  \\\n",
       "0       2.99                                            0         4+   \n",
       "24      0.99                                            0         4+   \n",
       "26      2.99                       0.99, 0.99, 0.99, 0.99         9+   \n",
       "30      2.99                                            0         4+   \n",
       "33      7.99                                            0         4+   \n",
       "...      ...                                          ...        ...   \n",
       "15666   0.00                                         4.99        12+   \n",
       "15736   0.00                                            0         4+   \n",
       "15833   0.00  0.99, 2.99, 8.99, 17.99, 0.99, 49.99, 94.99         4+   \n",
       "16171   0.00                             4.99, 1.99, 4.99         9+   \n",
       "16292   0.00                                            0         4+   \n",
       "\n",
       "                                               Languages          Size  \\\n",
       "0      DA, NL, EN, FI, FR, DE, IT, JA, KO, NB, PL, PT...  1.585357e+07   \n",
       "24                                                    EN  2.287309e+07   \n",
       "26                                                    EN  7.504179e+07   \n",
       "30     DA, NL, EN, FI, FR, DE, IT, JA, KO, NB, PL, PT...  9.543680e+06   \n",
       "33                                EN, FR, DE, JA, KO, ZH  7.517184e+06   \n",
       "...                                                  ...           ...   \n",
       "15666                                                 EN  1.746969e+09   \n",
       "15736                                                 EN  1.222994e+08   \n",
       "15833                                                 EN  9.195622e+07   \n",
       "16171                                                 EN  2.683167e+08   \n",
       "16292                             EN, FR, DE, IT, PT, ES  2.220483e+08   \n",
       "\n",
       "          Genres Original Release Date Current Version Release Date Update_Gap  \n",
       "0         Puzzle            2008-11-07                   2017-05-30  3126 days  \n",
       "24        Puzzle            2008-07-10                   2017-05-20  3236 days  \n",
       "26        Action            2008-05-10                   2018-11-04  3830 days  \n",
       "30        Puzzle            2008-10-21                   2017-05-30  3143 days  \n",
       "33        Puzzle            2008-05-11                   2019-07-04  4071 days  \n",
       "...          ...                   ...                          ...        ...  \n",
       "15666  Adventure            2019-01-05                   2019-08-05   212 days  \n",
       "15736     Puzzle            2018-12-15                   2019-07-30   227 days  \n",
       "15833   Strategy            2019-01-21                   2019-07-29   189 days  \n",
       "16171  Adventure            2019-05-27                   2019-12-07   194 days  \n",
       "16292   Strategy            2019-03-24                   2019-11-07   228 days  \n",
       "\n",
       "[1592 rows x 12 columns]"
      ]
     },
     "execution_count": 31,
     "metadata": {},
     "output_type": "execute_result"
    }
   ],
   "source": [
    "# Updated dataframe\n",
    "df"
   ]
  },
  {
   "cell_type": "markdown",
   "metadata": {},
   "source": [
    "### Genre Analysis"
   ]
  },
  {
   "cell_type": "code",
   "execution_count": 32,
   "metadata": {},
   "outputs": [],
   "source": [
    "df = df.rename(columns={'User Rating Count': 'User_Rating_Count'})"
   ]
  },
  {
   "cell_type": "code",
   "execution_count": 33,
   "metadata": {},
   "outputs": [
    {
     "data": {
      "text/plain": [
       "<matplotlib.axes._subplots.AxesSubplot at 0x2c8ba13a9c8>"
      ]
     },
     "execution_count": 33,
     "metadata": {},
     "output_type": "execute_result"
    },
    {
     "data": {
      "image/png": "[encoded data removed]",
      "text/plain": [
       "<Figure size 432x288 with 1 Axes>"
      ]
     },
     "metadata": {
      "needs_background": "light"
     },
     "output_type": "display_data"
    }
   ],
   "source": [
    "df.groupby('Genres').User_Rating_Count.count().plot(kind='bar',color='#ffd31d')"
   ]
  },
  {
   "cell_type": "markdown",
   "metadata": {},
   "source": [
    "##### Inference: Most apps with ratings 4.0 and above belong to Strategy Genre,   Action, Adventure and Puzzle have almost half the number of apps with 4.0 and above rating as compared to the Strategy Genre and the Genre Family has least number of apps with 4.0 and above rating.\n",
    "<hr>"
   ]
  },
  {
   "cell_type": "markdown",
   "metadata": {},
   "source": [
    "\n",
    "###  Size Analysis"
   ]
  },
  {
   "cell_type": "code",
   "execution_count": 34,
   "metadata": {},
   "outputs": [
    {
     "data": {
      "image/png": "[encoded data removed]",
      "text/plain": [
       "<Figure size 432x288 with 1 Axes>"
      ]
     },
     "metadata": {
      "needs_background": "light"
     },
     "output_type": "display_data"
    }
   ],
   "source": [
    "import matplotlib.pyplot as plt\n",
    "%matplotlib inline\n",
    "\n",
    "plt.xlabel(\"Size in MB\")\n",
    "plt.ylabel(\"Number Of Apps\")\n",
    "plt.hist(df.Size/1000000, bins=[0,500,1000,1500,2000], rwidth=0.95, color='#91bd3a')\n",
    "plt.show()"
   ]
  },
  {
   "cell_type": "markdown",
   "metadata": {},
   "source": [
    "* **The ABOVE graph shows that the maximum number of 4.0 and above rated apps belong to the range of 0-500 MB**\n",
    "* **The BELOW graph shows the number of apps belonging to different size ranges (between 0 to 500 MB)**\n",
    "<hr>"
   ]
  },
  {
   "cell_type": "code",
   "execution_count": 35,
   "metadata": {
    "scrolled": true
   },
   "outputs": [
    {
     "data": {
      "image/png": "[encoded data removed]",
      "text/plain": [
       "<Figure size 432x288 with 1 Axes>"
      ]
     },
     "metadata": {
      "needs_background": "light"
     },
     "output_type": "display_data"
    }
   ],
   "source": [
    "x = df.Size[(df['Size'] <= 500000000)]/1000000\n",
    "plt.xlabel(\"Size in MB\")\n",
    "plt.ylabel(\"Number Of Apps\")\n",
    "\n",
    "plt.hist(x, bins=[0,100,200,300,400,500], rwidth=0.95, color='#2b580c')\n",
    "plt.show()"
   ]
  },
  {
   "cell_type": "markdown",
   "metadata": {},
   "source": [
    "##### Inference :  Most of the apps with ratings 4.0 and above are of size range (0-500 MB), on futher analysis through Plot 2 (0-300 MB) is found as the optimal size range for getting higher user rating.\n",
    "<hr>"
   ]
  },
  {
   "cell_type": "markdown",
   "metadata": {},
   "source": [
    "### Price Analysis"
   ]
  },
  {
   "cell_type": "code",
   "execution_count": 36,
   "metadata": {
    "scrolled": true
   },
   "outputs": [
    {
     "data": {
      "image/png": "[encoded data removed]",
      "text/plain": [
       "<Figure size 432x288 with 1 Axes>"
      ]
     },
     "metadata": {},
     "output_type": "display_data"
    }
   ],
   "source": [
    "p1 = df.Price[(df['Price'] == 0.00)].count()\n",
    "p2 = df.Price[(df['Price'] != 0.00)].count()\n",
    "\n",
    "vals = [p1,p2]\n",
    "label = [\"Free of Cost\",\"Paid Apps\"]\n",
    "plt.pie(vals,labels=label,autopct='%1.2f%%',radius=2.0,explode=[0,0.1],shadow=True,colors=['#527318','#fcbf1e'])\n",
    "plt.axis(\"equal\")\n",
    "plt.show()"
   ]
  },
  {
   "cell_type": "markdown",
   "metadata": {},
   "source": [
    "* **The ABOVE pie chart shows that most of the apps having rating 4.0 and above are available as FREE OF COST**\n",
    "* **The BELOW graph shows the number of apps available in different price ranges, having rating 4.0 and above**\n",
    "<hr>"
   ]
  },
  {
   "cell_type": "code",
   "execution_count": 37,
   "metadata": {
    "scrolled": true
   },
   "outputs": [
    {
     "data": {
      "image/png": "[encoded data removed]",
      "text/plain": [
       "<Figure size 432x288 with 1 Axes>"
      ]
     },
     "metadata": {
      "needs_background": "light"
     },
     "output_type": "display_data"
    }
   ],
   "source": [
    "x = df.Price\n",
    "plt.xlabel(\"Price of Apps\")\n",
    "plt.ylabel(\"Number Of Apps\")\n",
    "\n",
    "plt.hist(x, bins=[0.01,2,4,6,8,10], rwidth=0.95, color='#b7472a')\n",
    "plt.show()"
   ]
  },
  {
   "cell_type": "markdown",
   "metadata": {},
   "source": [
    "##### Inference : Apps that are available for free consist of around 80% of total apps having 4.0 and above rating, price range of 0-6 units have few apps with 4.0 and above rating thereafter the number of apps in price ranges are significantly low.\n",
    "<hr>"
   ]
  },
  {
   "cell_type": "markdown",
   "metadata": {},
   "source": [
    "### Age Rating Analysis"
   ]
  },
  {
   "cell_type": "code",
   "execution_count": 38,
   "metadata": {},
   "outputs": [
    {
     "data": {
      "text/plain": [
       "array(['4+', '9+', '12+', '17+'], dtype=object)"
      ]
     },
     "execution_count": 38,
     "metadata": {},
     "output_type": "execute_result"
    }
   ],
   "source": [
    "df['Age Rating'].unique()"
   ]
  },
  {
   "cell_type": "code",
   "execution_count": 39,
   "metadata": {
    "scrolled": true
   },
   "outputs": [
    {
     "data": {
      "text/plain": [
       "<matplotlib.axes._subplots.AxesSubplot at 0x2c8ba471808>"
      ]
     },
     "execution_count": 39,
     "metadata": {},
     "output_type": "execute_result"
    },
    {
     "data": {
      "image/png": "[encoded data removed]",
      "text/plain": [
       "<Figure size 432x288 with 1 Axes>"
      ]
     },
     "metadata": {
      "needs_background": "light"
     },
     "output_type": "display_data"
    }
   ],
   "source": [
    "df.groupby('Age Rating').User_Rating_Count.count().plot(kind='barh',color='#fcbf1e')"
   ]
  },
  {
   "cell_type": "markdown",
   "metadata": {},
   "source": [
    "##### Inference : The apps with lower Age Rating have more number of Apps rated 4.0 and above, as the Age rating which are also the age restrictions increases the chances of it getting higher ratings decreases.\n",
    "<hr>"
   ]
  },
  {
   "cell_type": "markdown",
   "metadata": {},
   "source": [
    "### In app Purchases Analysis"
   ]
  },
  {
   "cell_type": "code",
   "execution_count": 40,
   "metadata": {},
   "outputs": [],
   "source": [
    "df = df.rename(columns={'In-app Purchases': 'In_app_Purchases'})"
   ]
  },
  {
   "cell_type": "code",
   "execution_count": 41,
   "metadata": {},
   "outputs": [],
   "source": [
    "k1 = df.In_app_Purchases[(df['In_app_Purchases'] == 0)].count()\n",
    "k2 = df.In_app_Purchases[(df['In_app_Purchases'] != 0)].count()"
   ]
  },
  {
   "cell_type": "code",
   "execution_count": 42,
   "metadata": {
    "scrolled": false
   },
   "outputs": [
    {
     "data": {
      "image/png": "[encoded data removed]",
      "text/plain": [
       "<Figure size 432x288 with 1 Axes>"
      ]
     },
     "metadata": {},
     "output_type": "display_data"
    }
   ],
   "source": [
    "vals = [k1,k2]\n",
    "label = [\"No In App Purchases\",\"Have In-app Purchases\"]\n",
    "plt.pie(vals,labels=label,autopct='%1.2f%%',radius=2.0,explode=[0,0.1],shadow=True,colors=['#fcbf1e', '#527318'])\n",
    "plt.axis(\"equal\")\n",
    "plt.show()"
   ]
  },
  {
   "cell_type": "markdown",
   "metadata": {},
   "source": [
    "##### Inference : Almost 81% apps with rating 4.0 and above have In app purchases, hence apps with In app purchases are more desirable by the users than apps with no In app Purchases."
   ]
  },
  {
   "cell_type": "markdown",
   "metadata": {},
   "source": [
    "   ## Conclusion:\n",
    "   <hr>\n",
    "\n",
    "**1.** **Genre Analysis**<br> \n",
    "     Strategy genre is the most popular among all genres, so a app game with Strategy genre is expected to yield better user        ratings. On the other hand, Family genre has least number of apps with rating 4.0 and above.<br>\n",
    "**2.** **Size Analysis**<br>\n",
    "     Most of the higher rated apps have size ranging from 0 to 300 MB, and thus it is the optimal size range that a app game        must have to get high ratings of 4.0 and above.<br>\n",
    "**3.** **Price Analysis**<br>Most of the app games having higher rating are available for Free. Price range of 0 to 6 units have few apps with high ratings, as the price of apps increases it is observed that their chances of getting a high user rating of    4.0 and above decreases.<br>\n",
    "**4.** **Age Rating Analysis**<br>\n",
    "     Age rating of 4+ have maximum number of apps with user ratings of 4.0 and above. As the Age rating increases the                number of apps getting high user rating decreases, this may be because of the fact that app games with high age rating is      accessible by lesser audience.<br>\n",
    "**5.** **In app Purchases Analysis**<br>\n",
    "     Over 80% app games with user ratings of 4.0 and above have some In app purchases, which shows that it is good for any          developer to include In app purchases as they seem to be more desirable by most of the users."
   ]
  }
 ],
 "metadata": {
  "kernelspec": {
   "display_name": "Python 3",
   "language": "python",
   "name": "python3"
  },
  "language_info": {
   "codemirror_mode": {
    "name": "ipython",
    "version": 3
   },
   "file_extension": ".py",
   "mimetype": "text/x-python",
   "name": "python",
   "nbconvert_exporter": "python",
   "pygments_lexer": "ipython3",
   "version": "3.7.6"
  }
 },
 "nbformat": 4,
 "nbformat_minor": 4
}
